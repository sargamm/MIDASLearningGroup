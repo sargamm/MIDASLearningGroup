{
  "nbformat": 4,
  "nbformat_minor": 0,
  "metadata": {
    "colab": {
      "name": "XGB.ipynb",
      "provenance": [],
      "collapsed_sections": []
    },
    "kernelspec": {
      "name": "python3",
      "display_name": "Python 3"
    }
  },
  "cells": [
    {
      "cell_type": "code",
      "metadata": {
        "id": "YpI7DZLbxnSk",
        "colab_type": "code",
        "colab": {}
      },
      "source": [
        "import xgboost"
      ],
      "execution_count": null,
      "outputs": []
    },
    {
      "cell_type": "code",
      "metadata": {
        "id": "cMSGxErDxqSG",
        "colab_type": "code",
        "colab": {}
      },
      "source": [
        "import matplotlib.pyplot as plt\n",
        "from sklearn import datasets\n",
        "import numpy as np\n",
        "from sklearn.metrics import precision_score, recall_score, accuracy_score\n",
        "from sklearn.model_selection import train_test_split\n",
        "iris=datasets.load_iris()"
      ],
      "execution_count": 12,
      "outputs": []
    },
    {
      "cell_type": "code",
      "metadata": {
        "id": "TRumhad2yETW",
        "colab_type": "code",
        "colab": {}
      },
      "source": [
        "X=iris.data\n",
        "Y=iris.target"
      ],
      "execution_count": 13,
      "outputs": []
    },
    {
      "cell_type": "code",
      "metadata": {
        "id": "6Aud4QxXyKcA",
        "colab_type": "code",
        "colab": {}
      },
      "source": [
        "trainX,testX,trainY,testY=train_test_split(X,Y,stratify=Y,random_state=0)"
      ],
      "execution_count": 14,
      "outputs": []
    },
    {
      "cell_type": "code",
      "metadata": {
        "id": "I5jZ0CNkyPRn",
        "colab_type": "code",
        "colab": {}
      },
      "source": [
        "dtrain=xgboost.DMatrix(trainX,label=trainY)"
      ],
      "execution_count": 15,
      "outputs": []
    },
    {
      "cell_type": "code",
      "metadata": {
        "id": "kMUmMFhEyn92",
        "colab_type": "code",
        "colab": {}
      },
      "source": [
        "dtest=xgboost.DMatrix(testX,label=testY)"
      ],
      "execution_count": 16,
      "outputs": []
    },
    {
      "cell_type": "code",
      "metadata": {
        "id": "X_Oj2ZdCyttN",
        "colab_type": "code",
        "colab": {}
      },
      "source": [
        "param = {\n",
        "    'eta': 0.3, \n",
        "    'max_depth': 3,  \n",
        "    'objective': 'multi:softprob',  \n",
        "    'num_class': 3} \n",
        "\n",
        "steps = 20 "
      ],
      "execution_count": 17,
      "outputs": []
    },
    {
      "cell_type": "code",
      "metadata": {
        "id": "zM6cPyjuHXIQ",
        "colab_type": "code",
        "colab": {}
      },
      "source": [
        "model=xgboost.train(param,dtrain,steps)"
      ],
      "execution_count": 18,
      "outputs": []
    },
    {
      "cell_type": "code",
      "metadata": {
        "id": "Z5oIpRs8K2Jy",
        "colab_type": "code",
        "colab": {}
      },
      "source": [
        "prediction=model.predict(dtest)"
      ],
      "execution_count": 19,
      "outputs": []
    },
    {
      "cell_type": "code",
      "metadata": {
        "id": "HJ7k4CJ2L8Sk",
        "colab_type": "code",
        "colab": {}
      },
      "source": [
        "bestPrediction=np.asarray([np.argmax(line) for line in prediction])"
      ],
      "execution_count": 21,
      "outputs": []
    },
    {
      "cell_type": "code",
      "metadata": {
        "id": "-OyzKHIvME4w",
        "colab_type": "code",
        "colab": {}
      },
      "source": [
        "accuracy=accuracy_score(testY,bestPrediction)"
      ],
      "execution_count": 22,
      "outputs": []
    },
    {
      "cell_type": "code",
      "metadata": {
        "id": "sQB4q2hadfvJ",
        "colab_type": "code",
        "colab": {
          "base_uri": "https://localhost:8080/",
          "height": 34
        },
        "outputId": "647e54f0-3a3a-47f8-a789-a4655dc4cb88"
      },
      "source": [
        "accuracy"
      ],
      "execution_count": 23,
      "outputs": [
        {
          "output_type": "execute_result",
          "data": {
            "text/plain": [
              "0.9473684210526315"
            ]
          },
          "metadata": {
            "tags": []
          },
          "execution_count": 23
        }
      ]
    },
    {
      "cell_type": "code",
      "metadata": {
        "id": "eMh2y6WYdhob",
        "colab_type": "code",
        "colab": {}
      },
      "source": [
        ""
      ],
      "execution_count": null,
      "outputs": []
    }
  ]
}