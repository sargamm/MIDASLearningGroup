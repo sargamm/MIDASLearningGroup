{
 "cells": [
  {
   "cell_type": "code",
   "execution_count": 505,
   "metadata": {},
   "outputs": [],
   "source": [
    "import pandas as pd\n",
    "import numpy as np\n",
    "import csv\n",
    "from sklearn.model_selection import train_test_split\n",
    "from sklearn import metrics\n",
    "from sklearn.metrics import accuracy_score\n",
    "from sklearn.linear_model import LinearRegression"
   ]
  },
  {
   "cell_type": "code",
   "execution_count": 527,
   "metadata": {},
   "outputs": [],
   "source": [
    "df_train=pd.read_csv('LR/train.csv')\n",
    "df_test=pd.read_csv('LR/test.csv')"
   ]
  },
  {
   "cell_type": "code",
   "execution_count": 528,
   "metadata": {},
   "outputs": [
    {
     "name": "stdout",
     "output_type": "stream",
     "text": [
      "(1460, 81)\n",
      "(1459, 80)\n"
     ]
    }
   ],
   "source": [
    "print(df_train.shape)\n",
    "print(df_test.shape)"
   ]
  },
  {
   "cell_type": "code",
   "execution_count": 529,
   "metadata": {},
   "outputs": [],
   "source": [
    "cat_feat=df_train.select_dtypes(include=[object]).columns"
   ]
  },
  {
   "cell_type": "code",
   "execution_count": 530,
   "metadata": {},
   "outputs": [
    {
     "data": {
      "text/plain": [
       "{'Grvl', 'Pave'}"
      ]
     },
     "execution_count": 530,
     "metadata": {},
     "output_type": "execute_result"
    }
   ],
   "source": [
    "set(df_train[\"Street\"])"
   ]
  },
  {
   "cell_type": "code",
   "execution_count": 531,
   "metadata": {},
   "outputs": [],
   "source": [
    "df_train.drop(df_train.columns[0],axis=1,inplace=True) #drop id\n",
    "df_test.drop(df_test.columns[0],axis=1,inplace=True)"
   ]
  },
  {
   "cell_type": "code",
   "execution_count": 532,
   "metadata": {},
   "outputs": [],
   "source": [
    "for feat in cat_feat:     \n",
    "    df_train[feat] = df_train[feat].astype('category')\n",
    "    df_train[feat] = df_train[feat].cat.codes\n",
    "    df_test[feat] = df_test[feat].astype('category')\n",
    "    df_test[feat] = df_test[feat].cat.codes"
   ]
  },
  {
   "cell_type": "code",
   "execution_count": 533,
   "metadata": {},
   "outputs": [
    {
     "data": {
      "text/plain": [
       "{0, 1}"
      ]
     },
     "execution_count": 533,
     "metadata": {},
     "output_type": "execute_result"
    }
   ],
   "source": [
    "set(df_train[\"Street\"])"
   ]
  },
  {
   "cell_type": "code",
   "execution_count": 534,
   "metadata": {},
   "outputs": [
    {
     "data": {
      "text/plain": [
       "MSSubClass       False\n",
       "MSZoning         False\n",
       "LotFrontage       True\n",
       "LotArea          False\n",
       "Street           False\n",
       "                 ...  \n",
       "MoSold           False\n",
       "YrSold           False\n",
       "SaleType         False\n",
       "SaleCondition    False\n",
       "SalePrice        False\n",
       "Length: 80, dtype: bool"
      ]
     },
     "execution_count": 534,
     "metadata": {},
     "output_type": "execute_result"
    }
   ],
   "source": [
    "df_train.isna().any() ### null value in each column"
   ]
  },
  {
   "cell_type": "code",
   "execution_count": 535,
   "metadata": {},
   "outputs": [
    {
     "data": {
      "text/plain": [
       "MSSubClass       False\n",
       "MSZoning         False\n",
       "LotFrontage      False\n",
       "LotArea          False\n",
       "Street           False\n",
       "                 ...  \n",
       "MiscVal          False\n",
       "MoSold           False\n",
       "YrSold           False\n",
       "SaleType         False\n",
       "SaleCondition    False\n",
       "Length: 79, dtype: bool"
      ]
     },
     "execution_count": 535,
     "metadata": {},
     "output_type": "execute_result"
    }
   ],
   "source": [
    "reg=LinearRegression()\n",
    "# df_train['LotFrontage'].fillna(df_train['LotFrontage'].mean(),inplace=True)\n",
    "# df_test['LotFrontage'].fillna(df_test['LotFrontage'].mean(),inplace=True)\n",
    "df_train.fillna(axis=0,method=\"ffill\",inplace=True)\n",
    "df_test.fillna(axis=0,method=\"ffill\",inplace=True)\n",
    "df_train.isna().any()\n",
    "df_test.isna().any()"
   ]
  },
  {
   "cell_type": "code",
   "execution_count": 536,
   "metadata": {},
   "outputs": [],
   "source": [
    "X=df_train.loc[:, df_train.columns != 'SalePrice'].values\n",
    "y=df_train['SalePrice'].values"
   ]
  },
  {
   "cell_type": "code",
   "execution_count": 537,
   "metadata": {},
   "outputs": [],
   "source": [
    "x_train, x_test, y_train, y_test = train_test_split(X, y, test_size=0.2, random_state=0)"
   ]
  },
  {
   "cell_type": "code",
   "execution_count": 538,
   "metadata": {},
   "outputs": [
    {
     "data": {
      "text/plain": [
       "LinearRegression()"
      ]
     },
     "execution_count": 538,
     "metadata": {},
     "output_type": "execute_result"
    }
   ],
   "source": [
    "reg.fit(x_train,y_train)"
   ]
  },
  {
   "cell_type": "code",
   "execution_count": 539,
   "metadata": {},
   "outputs": [
    {
     "data": {
      "text/plain": [
       "1671307.3388253807"
      ]
     },
     "execution_count": 539,
     "metadata": {},
     "output_type": "execute_result"
    }
   ],
   "source": [
    "reg.intercept_"
   ]
  },
  {
   "cell_type": "code",
   "execution_count": 540,
   "metadata": {},
   "outputs": [
    {
     "data": {
      "text/plain": [
       "array([-8.11449607e+01, -1.72367483e+03,  3.32918357e+01,  4.82094657e-01,\n",
       "        3.58426101e+04, -1.80315591e+03, -6.20490269e+02,  1.48530023e+03,\n",
       "       -3.02132621e+04,  3.88008274e+02, -3.68773760e+02,  1.15341463e+02,\n",
       "       -2.16720156e+03, -4.56358566e+04, -6.99233063e+02, -9.63585673e+02,\n",
       "        1.01298593e+04,  5.50961348e+03,  2.22870150e+02,  6.86241756e+01,\n",
       "        1.60914577e+03,  3.27882507e+03, -9.74988300e+02,  6.54924414e+02,\n",
       "        4.15002771e+03,  3.06548520e+01, -8.77251118e+03, -1.09316324e+02,\n",
       "        1.29113695e+03, -7.80417637e+03,  2.00466684e+03, -2.12103906e+03,\n",
       "       -7.23144644e+01,  1.51108471e+01,  1.44762713e+03,  1.53177326e+01,\n",
       "       -4.56724322e+00,  2.58613365e+01, -3.93509244e+03, -5.16277405e+02,\n",
       "        1.08008043e+03, -7.19813043e+02,  1.64357400e+01,  2.29833724e+01,\n",
       "       -1.13339875e+01,  2.80851247e+01,  1.51865391e+03,  7.09220526e+02,\n",
       "        2.36648907e+03,  3.34424134e+03, -4.85486491e+03, -2.08492968e+04,\n",
       "       -6.63058086e+03,  3.34159781e+03,  3.57203094e+03,  8.52756305e+03,\n",
       "       -1.65955692e+03,  7.81575521e+02, -4.67190067e+01, -1.57133522e+03,\n",
       "        2.25000124e+03,  2.58986870e+01, -3.05850241e+03,  9.27373693e+02,\n",
       "        1.27485363e+03,  1.40522462e+01, -2.92052093e+00,  9.89259793e+00,\n",
       "        3.18007247e+01,  2.26928404e+01, -1.60318136e+02,  4.83695731e+04,\n",
       "       -3.02132091e+02, -1.25805822e+03,  2.54384082e+00, -3.97152127e+02,\n",
       "       -1.02537312e+03, -5.68253876e+02,  3.69646498e+03])"
      ]
     },
     "execution_count": 540,
     "metadata": {},
     "output_type": "execute_result"
    }
   ],
   "source": [
    "reg.coef_"
   ]
  },
  {
   "cell_type": "code",
   "execution_count": 541,
   "metadata": {},
   "outputs": [],
   "source": [
    "predicted_y=reg.predict(x_test)"
   ]
  },
  {
   "cell_type": "code",
   "execution_count": 542,
   "metadata": {},
   "outputs": [],
   "source": [
    "df1 = pd.DataFrame({'Actual': y_test, 'Predicted': predicted_y})"
   ]
  },
  {
   "cell_type": "code",
   "execution_count": 543,
   "metadata": {},
   "outputs": [
    {
     "data": {
      "text/html": [
       "<div>\n",
       "<style scoped>\n",
       "    .dataframe tbody tr th:only-of-type {\n",
       "        vertical-align: middle;\n",
       "    }\n",
       "\n",
       "    .dataframe tbody tr th {\n",
       "        vertical-align: top;\n",
       "    }\n",
       "\n",
       "    .dataframe thead th {\n",
       "        text-align: right;\n",
       "    }\n",
       "</style>\n",
       "<table border=\"1\" class=\"dataframe\">\n",
       "  <thead>\n",
       "    <tr style=\"text-align: right;\">\n",
       "      <th></th>\n",
       "      <th>Actual</th>\n",
       "      <th>Predicted</th>\n",
       "    </tr>\n",
       "  </thead>\n",
       "  <tbody>\n",
       "    <tr>\n",
       "      <th>0</th>\n",
       "      <td>200624</td>\n",
       "      <td>199604.617038</td>\n",
       "    </tr>\n",
       "    <tr>\n",
       "      <th>1</th>\n",
       "      <td>133000</td>\n",
       "      <td>173496.896454</td>\n",
       "    </tr>\n",
       "    <tr>\n",
       "      <th>2</th>\n",
       "      <td>110000</td>\n",
       "      <td>94526.300550</td>\n",
       "    </tr>\n",
       "    <tr>\n",
       "      <th>3</th>\n",
       "      <td>192000</td>\n",
       "      <td>217726.645070</td>\n",
       "    </tr>\n",
       "    <tr>\n",
       "      <th>4</th>\n",
       "      <td>88000</td>\n",
       "      <td>90998.287752</td>\n",
       "    </tr>\n",
       "    <tr>\n",
       "      <th>...</th>\n",
       "      <td>...</td>\n",
       "      <td>...</td>\n",
       "    </tr>\n",
       "    <tr>\n",
       "      <th>287</th>\n",
       "      <td>324000</td>\n",
       "      <td>279600.368314</td>\n",
       "    </tr>\n",
       "    <tr>\n",
       "      <th>288</th>\n",
       "      <td>555000</td>\n",
       "      <td>452633.166514</td>\n",
       "    </tr>\n",
       "    <tr>\n",
       "      <th>289</th>\n",
       "      <td>136000</td>\n",
       "      <td>198780.616165</td>\n",
       "    </tr>\n",
       "    <tr>\n",
       "      <th>290</th>\n",
       "      <td>82500</td>\n",
       "      <td>100988.715873</td>\n",
       "    </tr>\n",
       "    <tr>\n",
       "      <th>291</th>\n",
       "      <td>101000</td>\n",
       "      <td>98330.570794</td>\n",
       "    </tr>\n",
       "  </tbody>\n",
       "</table>\n",
       "<p>292 rows × 2 columns</p>\n",
       "</div>"
      ],
      "text/plain": [
       "     Actual      Predicted\n",
       "0    200624  199604.617038\n",
       "1    133000  173496.896454\n",
       "2    110000   94526.300550\n",
       "3    192000  217726.645070\n",
       "4     88000   90998.287752\n",
       "..      ...            ...\n",
       "287  324000  279600.368314\n",
       "288  555000  452633.166514\n",
       "289  136000  198780.616165\n",
       "290   82500  100988.715873\n",
       "291  101000   98330.570794\n",
       "\n",
       "[292 rows x 2 columns]"
      ]
     },
     "execution_count": 543,
     "metadata": {},
     "output_type": "execute_result"
    }
   ],
   "source": [
    "df1"
   ]
  },
  {
   "cell_type": "code",
   "execution_count": 544,
   "metadata": {},
   "outputs": [
    {
     "name": "stdout",
     "output_type": "stream",
     "text": [
      "Mean Absolute Error: 24808.724749496967\n",
      "Mean Squared Error: 3245229959.0033693\n",
      "Root Mean Squared Error: 56966.91986586048\n"
     ]
    }
   ],
   "source": [
    "print('Mean Absolute Error:', metrics.mean_absolute_error(y_test, predicted_y))  \n",
    "print('Mean Squared Error:', metrics.mean_squared_error(y_test, predicted_y))  \n",
    "print('Root Mean Squared Error:', np.sqrt(metrics.mean_squared_error(y_test, predicted_y)))"
   ]
  },
  {
   "cell_type": "markdown",
   "metadata": {},
   "source": [
    "## prediction on test data"
   ]
  },
  {
   "cell_type": "code",
   "execution_count": 545,
   "metadata": {},
   "outputs": [],
   "source": [
    "X_test=df_test.values"
   ]
  },
  {
   "cell_type": "code",
   "execution_count": 546,
   "metadata": {},
   "outputs": [],
   "source": [
    "Y_predicted=reg.predict(X_test)"
   ]
  },
  {
   "cell_type": "code",
   "execution_count": 547,
   "metadata": {},
   "outputs": [
    {
     "data": {
      "text/plain": [
       "array([127897.80611939, 204959.04860572, 182111.0700775 , ...,\n",
       "       168588.16315013, 127170.47621373, 240912.71990267])"
      ]
     },
     "execution_count": 547,
     "metadata": {},
     "output_type": "execute_result"
    }
   ],
   "source": [
    "Y_predicted"
   ]
  },
  {
   "cell_type": "code",
   "execution_count": null,
   "metadata": {},
   "outputs": [],
   "source": []
  },
  {
   "cell_type": "code",
   "execution_count": null,
   "metadata": {},
   "outputs": [],
   "source": []
  }
 ],
 "metadata": {
  "kernelspec": {
   "display_name": "Python 3",
   "language": "python",
   "name": "python3"
  },
  "language_info": {
   "codemirror_mode": {
    "name": "ipython",
    "version": 3
   },
   "file_extension": ".py",
   "mimetype": "text/x-python",
   "name": "python",
   "nbconvert_exporter": "python",
   "pygments_lexer": "ipython3",
   "version": "3.7.5"
  }
 },
 "nbformat": 4,
 "nbformat_minor": 4
}
